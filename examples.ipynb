{
 "cells": [
  {
   "attachments": {},
   "cell_type": "markdown",
   "metadata": {},
   "source": [
    "# Řešení bludiště\n",
    "\n",
    "**V této části si ukážeme funkce sloužící k řešení čtvercovvých bludišť**"
   ]
  },
  {
   "attachments": {},
   "cell_type": "markdown",
   "metadata": {},
   "source": [
    "Importujeme potřebné knihovny"
   ]
  },
  {
   "cell_type": "code",
   "execution_count": null,
   "metadata": {},
   "outputs": [],
   "source": [
    "from maze import *\n",
    "import matplotlib.pyplot as plt"
   ]
  },
  {
   "attachments": {},
   "cell_type": "markdown",
   "metadata": {},
   "source": [
    "Použijeme naši funkci `load_maze()` pro načtení bludiště"
   ]
  },
  {
   "cell_type": "code",
   "execution_count": null,
   "metadata": {},
   "outputs": [],
   "source": [
    "maze = load_maze(\"maze_6.csv\")\n",
    "maze_wrong = load_maze(\"maze_7.csv\")\n",
    "# Funkce je upravena tak aby pohodlně načítala data z cety \"Bludiště_zadaní/data/\"\n",
    "# za předpokladu, že složka s daty a jupyter notebook jsem na stejném místě,\n",
    "# pokud máte data uložené jina, je třeba funkci upravit"
   ]
  },
  {
   "attachments": {},
   "cell_type": "markdown",
   "metadata": {},
   "source": [
    "Použijeme funkci `draw_unsolved_maze()` pro vykreslení načtených bludišť"
   ]
  },
  {
   "cell_type": "code",
   "execution_count": null,
   "metadata": {},
   "outputs": [],
   "source": [
    "# nejprve naše bludiště, které má řešení\n",
    "draw_unsolved_maze(maze)"
   ]
  },
  {
   "cell_type": "code",
   "execution_count": null,
   "metadata": {},
   "outputs": [],
   "source": [
    "# vykreslíme i bludiště, které nemá řešení\n",
    "draw_unsolved_maze(maze_wrong)"
   ]
  },
  {
   "attachments": {},
   "cell_type": "markdown",
   "metadata": {},
   "source": [
    "Zavoláme naši funkci `create_incidence()` pro vytvoření matice incidence, kterou si následně i vykreslíme"
   ]
  },
  {
   "cell_type": "code",
   "execution_count": null,
   "metadata": {},
   "outputs": [],
   "source": [
    "incidence = create_incidence(maze)\n",
    "plt.imshow(incidence.todense(), cmap='coolwarm')\n",
    "plt.colorbar()\n",
    "plt.show()"
   ]
  },
  {
   "cell_type": "code",
   "execution_count": null,
   "metadata": {},
   "outputs": [],
   "source": [
    "incidence_wrong = create_incidence(maze_wrong)\n",
    "plt.imshow(incidence_wrong.todense(), cmap='coolwarm')\n",
    "plt.colorbar()\n",
    "plt.show()"
   ]
  },
  {
   "attachments": {},
   "cell_type": "markdown",
   "metadata": {},
   "source": [
    "Nyní si ukážeme funkci `find_shortest_path()`, která nám najde nejkratší cestu v bludiště jako listt vrcholů"
   ]
  },
  {
   "cell_type": "code",
   "execution_count": null,
   "metadata": {},
   "outputs": [],
   "source": [
    "path = find_shortest_path(incidence)\n",
    "print(\"path: \", path)"
   ]
  },
  {
   "cell_type": "code",
   "execution_count": null,
   "metadata": {},
   "outputs": [],
   "source": [
    "path_wrong = find_shortest_path(incidence_wrong)\n",
    "print(\"path: \", path_wrong)"
   ]
  },
  {
   "attachments": {},
   "cell_type": "markdown",
   "metadata": {},
   "source": [
    "Zavoláme funkci `get_shortest_path_coords()` pro získání listu souřadnic nejkratší cesty v bludišti, funkce využívá předchozí funkci k nalezení nejkratší cesty a pak ji převede na souřadnice v bludišti"
   ]
  },
  {
   "cell_type": "code",
   "execution_count": null,
   "metadata": {},
   "outputs": [],
   "source": [
    "coords = get_shortest_path_coords(maze)\n",
    "print(coords)"
   ]
  },
  {
   "attachments": {},
   "cell_type": "markdown",
   "metadata": {},
   "source": [
    "Nakonec zavoláme funkci `draw_solved_maze()` která spojuje výše ukázané funkce dohromady a vykreslí nám již vyřešené bludiště."
   ]
  },
  {
   "cell_type": "code",
   "execution_count": null,
   "metadata": {},
   "outputs": [],
   "source": [
    "draw_solved_maze(maze)"
   ]
  },
  {
   "attachments": {},
   "cell_type": "markdown",
   "metadata": {},
   "source": [
    "Načteme, vyřešíme a vykreslíme i větší bludiště"
   ]
  },
  {
   "cell_type": "code",
   "execution_count": null,
   "metadata": {},
   "outputs": [],
   "source": [
    "maze_big = load_maze(\"maze_5.csv\")\n",
    "draw_solved_maze(maze_big)"
   ]
  },
  {
   "attachments": {},
   "cell_type": "markdown",
   "metadata": {},
   "source": [
    "# Generování bludiště\n",
    "\n",
    "**V této části si budeme ukazovat funkce ke generování řešitelných bludišť.**\n",
    "\n",
    "Začneme funkcí `maze_template()`, která nám vrátí nové prázdné bludiště námi zvoleného vzoru"
   ]
  },
  {
   "cell_type": "code",
   "execution_count": null,
   "metadata": {},
   "outputs": [],
   "source": [
    "# Prázdné bludiště\n",
    "maze_empty = maze_template(100, \"hard\")\n",
    "draw_unsolved_maze(maze_empty)"
   ]
  },
  {
   "cell_type": "code",
   "execution_count": null,
   "metadata": {},
   "outputs": [],
   "source": [
    "# Slalom bludiště ve tvaru S\n",
    "maze_S = maze_template(100, \"S\")\n",
    "draw_unsolved_maze(maze_S)"
   ]
  },
  {
   "cell_type": "code",
   "execution_count": null,
   "metadata": {},
   "outputs": [],
   "source": [
    "# Slalom bludiště ve tvaru N\n",
    "maze_N = maze_template(100, \"N\")\n",
    "draw_unsolved_maze(maze_N)"
   ]
  },
  {
   "cell_type": "code",
   "execution_count": null,
   "metadata": {},
   "outputs": [],
   "source": [
    "# Bludiště s průchodem ve tvaru Z\n",
    "maze_Z = maze_template(100, \"Z\")\n",
    "draw_unsolved_maze(maze_Z)"
   ]
  },
  {
   "cell_type": "code",
   "execution_count": null,
   "metadata": {},
   "outputs": [],
   "source": [
    "# Bludiště s průchodem uprostřed\n",
    "maze_middle = maze_template(100, \"middle\")\n",
    "draw_unsolved_maze(maze_middle)"
   ]
  },
  {
   "cell_type": "code",
   "execution_count": null,
   "metadata": {},
   "outputs": [],
   "source": [
    "# Bludiště ve tvaru spirály\n",
    "maze_spiral = maze_template(100, \"spiral\")\n",
    "draw_unsolved_maze(maze_spiral)"
   ]
  },
  {
   "attachments": {},
   "cell_type": "markdown",
   "metadata": {},
   "source": [
    "Zkusíme si jak funguje funkce `fill_maze()` na prázdném bludišti"
   ]
  },
  {
   "cell_type": "code",
   "execution_count": null,
   "metadata": {},
   "outputs": [],
   "source": [
    "# vytvoříme málé testovací bludiště\n",
    "maze_test = maze_template(10)\n",
    "\n",
    "# Funkce příjme matici incidence a bludiště, proto si musíme matici vytvořit pomocí funkce create_incidence()\n",
    "incidence_test = create_incidence(maze_test)\n",
    "\n",
    "# bludiště se pokusíme zaplnit v 10 náhodných místech\n",
    "for i in range(10):\n",
    "    maze_test, incidence_test = fill_maze(maze_test, incidence_test)\n",
    "# funkce vždy vyplní\n",
    "\n",
    "# bludiště vykreslíme\n",
    "draw_unsolved_maze(maze_test)"
   ]
  },
  {
   "attachments": {},
   "cell_type": "markdown",
   "metadata": {},
   "source": [
    "Teď si ukážeme funkci `has_path()`, která vychází z funkce `find_shortest_path()`, ale pouze ověří jestli bludiště má cestu či nikoliv"
   ]
  },
  {
   "cell_type": "code",
   "execution_count": null,
   "metadata": {},
   "outputs": [],
   "source": [
    "# funkce potřebuje matici incidence bludiště\n",
    "print(has_path(incidence_test))"
   ]
  },
  {
   "cell_type": "code",
   "execution_count": null,
   "metadata": {},
   "outputs": [],
   "source": [
    "# ještě může zkusit neprůchozí bludiště z předešlých ukázek\n",
    "print(has_path(incidence_wrong))"
   ]
  },
  {
   "attachments": {},
   "cell_type": "markdown",
   "metadata": {},
   "source": [
    "Nakonec si uakážeme funkci `generate_maze()`, která spojuje předešlé funkce a vygeneruje nám nové bludiště dle našich parametrů"
   ]
  },
  {
   "cell_type": "code",
   "execution_count": null,
   "metadata": {},
   "outputs": [],
   "source": [
    "generated_maze = generate_maze(50, iter=1111)"
   ]
  },
  {
   "attachments": {},
   "cell_type": "markdown",
   "metadata": {},
   "source": [
    "Prvně si úkážeme jak bludiště vypadá"
   ]
  },
  {
   "cell_type": "code",
   "execution_count": null,
   "metadata": {},
   "outputs": [],
   "source": [
    "draw_unsolved_maze(generated_maze)"
   ]
  },
  {
   "attachments": {},
   "cell_type": "markdown",
   "metadata": {},
   "source": [
    "Nyní si ještě bludiště uložíme do csv souboru pomocí funkce `save_maze()`"
   ]
  },
  {
   "cell_type": "code",
   "execution_count": null,
   "metadata": {},
   "outputs": [],
   "source": [
    "save_maze(generated_maze)"
   ]
  },
  {
   "attachments": {},
   "cell_type": "markdown",
   "metadata": {},
   "source": [
    "A ještě bludiště vyřešíme"
   ]
  },
  {
   "cell_type": "code",
   "execution_count": null,
   "metadata": {},
   "outputs": [],
   "source": [
    "draw_solved_maze(generated_maze)"
   ]
  },
  {
   "attachments": {},
   "cell_type": "markdown",
   "metadata": {},
   "source": [
    "Nakonec si uakážeme ještě jiné parametry funkce `generate_maze()`"
   ]
  },
  {
   "cell_type": "code",
   "execution_count": null,
   "metadata": {},
   "outputs": [],
   "source": [
    "generated_maze2 = generate_maze(100, \"spiral\", 4000)"
   ]
  },
  {
   "cell_type": "code",
   "execution_count": null,
   "metadata": {},
   "outputs": [],
   "source": [
    "generated_maze3 = generate_maze(100, \"Z\", 4000)"
   ]
  }
 ],
 "metadata": {
  "kernelspec": {
   "display_name": "Python 3",
   "language": "python",
   "name": "python3"
  },
  "language_info": {
   "codemirror_mode": {
    "name": "ipython",
    "version": 3
   },
   "file_extension": ".py",
   "mimetype": "text/x-python",
   "name": "python",
   "nbconvert_exporter": "python",
   "pygments_lexer": "ipython3",
   "version": "3.10.6"
  },
  "orig_nbformat": 4
 },
 "nbformat": 4,
 "nbformat_minor": 2
}
