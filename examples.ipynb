{
 "cells": [
  {
   "attachments": {},
   "cell_type": "markdown",
   "metadata": {},
   "source": [
    "# Řešení bludiště\n",
    "\n",
    "**V této části si ukážeme třídu Maze a její metody sloužící k řešení čtvercovvých bludišť**"
   ]
  },
  {
   "attachments": {},
   "cell_type": "markdown",
   "metadata": {},
   "source": [
    "Importujeme potřebné knihovny"
   ]
  },
  {
   "cell_type": "code",
   "execution_count": null,
   "metadata": {},
   "outputs": [],
   "source": [
    "from maze import *\n",
    "import matplotlib.pyplot as plt"
   ]
  },
  {
   "attachments": {},
   "cell_type": "markdown",
   "metadata": {},
   "source": [
    "Vytvoříme si nové instance třídy Maze za použití konstruktoru, který zavolá metodu `load_maze()` pro načtení a uložení bludiště"
   ]
  },
  {
   "cell_type": "code",
   "execution_count": null,
   "metadata": {},
   "outputs": [],
   "source": [
    "maze = Maze(\"maze_6.csv\")\n",
    "maze_wrong = Maze(\"maze_7.csv\")\n",
    "# Metoda je upravena tak aby pohodlně načítala data z cety \"Bludiště_zadaní/data/\"\n",
    "# za předpokladu, že složka s daty a jupyter notebook jsem na stejném místě,\n",
    "# pokud máte data uložené jina, je třeba funkci upravit"
   ]
  },
  {
   "attachments": {},
   "cell_type": "markdown",
   "metadata": {},
   "source": [
    "Použijeme metodu `draw_maze()` pro vykreslení načtených bludišť"
   ]
  },
  {
   "cell_type": "code",
   "execution_count": null,
   "metadata": {},
   "outputs": [],
   "source": [
    "# nejprve naše bludiště, které má řešení\n",
    "maze.draw_maze()"
   ]
  },
  {
   "cell_type": "code",
   "execution_count": null,
   "metadata": {},
   "outputs": [],
   "source": [
    "# vykreslíme i bludiště, které nemá řešení\n",
    "maze_wrong.draw_maze()"
   ]
  },
  {
   "attachments": {},
   "cell_type": "markdown",
   "metadata": {},
   "source": [
    "Zavoláme metodu `create_incidence()` pro vytvoření matice incidence, kterou si následně i vykreslíme"
   ]
  },
  {
   "cell_type": "code",
   "execution_count": null,
   "metadata": {},
   "outputs": [],
   "source": [
    "maze.incidence = maze.create_incidence()\n",
    "plt.imshow(maze.incidence.todense(), cmap='coolwarm')\n",
    "plt.colorbar()\n",
    "plt.show()"
   ]
  },
  {
   "cell_type": "code",
   "execution_count": null,
   "metadata": {},
   "outputs": [],
   "source": [
    "maze_wrong.incidence = maze_wrong.create_incidence()\n",
    "plt.imshow(maze_wrong.incidence.todense(), cmap='coolwarm')\n",
    "plt.colorbar()\n",
    "plt.show()"
   ]
  },
  {
   "attachments": {},
   "cell_type": "markdown",
   "metadata": {},
   "source": [
    "Nyní si ukážeme metodu `find_shortest_path()`, která nám najde nejkratší cestu v bludiště jako list vrcholů"
   ]
  },
  {
   "cell_type": "code",
   "execution_count": null,
   "metadata": {},
   "outputs": [],
   "source": [
    "maze.path = maze.find_shortest_path()\n",
    "print(\"path: \", maze.path)"
   ]
  },
  {
   "cell_type": "code",
   "execution_count": null,
   "metadata": {},
   "outputs": [],
   "source": [
    "maze_wrong.path = maze_wrong.find_shortest_path()\n",
    "print(\"path: \", maze_wrong.path)"
   ]
  },
  {
   "attachments": {},
   "cell_type": "markdown",
   "metadata": {},
   "source": [
    "Zavoláme metodu `get_shortest_path_coords()` pro získání listu souřadnic nejkratší cesty v bludišti, funkce využívá atribut path vytvořený předchozí metodou a pak ho převede na souřadnice v bludišti"
   ]
  },
  {
   "cell_type": "code",
   "execution_count": null,
   "metadata": {},
   "outputs": [],
   "source": [
    "maze.coords = maze.get_shortest_path_coords()\n",
    "print(\"coords: \", maze.coords)"
   ]
  },
  {
   "attachments": {},
   "cell_type": "markdown",
   "metadata": {},
   "source": [
    "Nakonec zavoláme znovu metodu `draw_maze()` která nám bludiště vykreslí tentokrát již vyřešené"
   ]
  },
  {
   "cell_type": "code",
   "execution_count": null,
   "metadata": {},
   "outputs": [],
   "source": [
    "maze.draw_maze()"
   ]
  },
  {
   "attachments": {},
   "cell_type": "markdown",
   "metadata": {},
   "source": [
    "Zkusíme to ještě jednou a tentokrát celé najednou pomocí metody `solve_maze()`, která spojuje předchozí metody dohromady a řeší bludiště v jednom zavolání"
   ]
  },
  {
   "cell_type": "code",
   "execution_count": null,
   "metadata": {},
   "outputs": [],
   "source": [
    "# načteme větší bludiště\n",
    "maze_big = Maze(\"maze_5.csv\")\n",
    "\n",
    "# vyřešíme a vykreslíme bludiště\n",
    "maze_big.solve_maze(draw=True)\n",
    "# můžeme bludště uložit do csv nebo png souboru na zákaladě parametrů save_png, save_csv a name"
   ]
  },
  {
   "attachments": {},
   "cell_type": "markdown",
   "metadata": {},
   "source": [
    "# Generování bludiště\n",
    "\n",
    "**V této části si budeme ukazovat metody ke generování řešitelných bludišť.**\n",
    "\n",
    "Začneme metodou `maze_template()`, která nám vrátí nové prázdné bludiště námi zvoleného vzoru a ukážeme si všechny možnosti"
   ]
  },
  {
   "cell_type": "code",
   "execution_count": null,
   "metadata": {},
   "outputs": [],
   "source": [
    "# Prázdné bludiště\n",
    "maze_empty = Maze(size=100)\n",
    "maze_empty.draw_maze()"
   ]
  },
  {
   "cell_type": "code",
   "execution_count": null,
   "metadata": {},
   "outputs": [],
   "source": [
    "# Slalom bludiště ve tvaru S\n",
    "maze_S = Maze(size=100, type=\"S\")\n",
    "maze_S.draw_maze()"
   ]
  },
  {
   "cell_type": "code",
   "execution_count": null,
   "metadata": {},
   "outputs": [],
   "source": [
    "# Slalom bludiště ve tvaru N\n",
    "maze_N = Maze(size=100, type=\"N\")\n",
    "maze_N.draw_maze()"
   ]
  },
  {
   "cell_type": "code",
   "execution_count": null,
   "metadata": {},
   "outputs": [],
   "source": [
    "# Bludiště s průchodem ve tvaru Z\n",
    "maze_Z = Maze(size=100, type=\"Z\")\n",
    "maze_Z.draw_maze()"
   ]
  },
  {
   "cell_type": "code",
   "execution_count": null,
   "metadata": {},
   "outputs": [],
   "source": [
    "# Bludiště s průchodem uprostřed\n",
    "maze_middle = Maze(size=100, type=\"middle\")\n",
    "maze_middle.draw_maze()"
   ]
  },
  {
   "cell_type": "code",
   "execution_count": null,
   "metadata": {},
   "outputs": [],
   "source": [
    "# Bludiště ve tvaru spirály\n",
    "maze_spiral = Maze(size=100, type=\"spiral\")\n",
    "maze_spiral.draw_maze()"
   ]
  },
  {
   "attachments": {},
   "cell_type": "markdown",
   "metadata": {},
   "source": [
    "Zkusíme si jak funguje metoda `fill_maze()` na prázdném bludišti"
   ]
  },
  {
   "cell_type": "code",
   "execution_count": null,
   "metadata": {},
   "outputs": [],
   "source": [
    "# vytvoříme málé testovací bludiště\n",
    "maze_test = Maze(size=10)\n",
    "\n",
    "# Funkce příjme matici incidence a bludiště, proto si musíme matici vytvořit pomocí funkce create_incidence()\n",
    "maze_test.incidence = maze_test.create_incidence()\n",
    "\n",
    "# bludiště se pokusíme zaplnit v 10 náhodných místech\n",
    "for i in range(10):\n",
    "    maze_test.fill_maze()\n",
    "\n",
    "# bludiště vykreslíme\n",
    "maze_test.draw_maze()"
   ]
  },
  {
   "attachments": {},
   "cell_type": "markdown",
   "metadata": {},
   "source": [
    "Můžeme se podívat na atribut solvable v bludšťi, který nám řekne, jestli bludiště má řešení. Tento atribut se upravuje vždy při volání metody `has_path()`, která je základem metody `find_shortest_path()`. Na základě algoritmu průchodu do šířky kontroluje, jestli je bludiště průchozí"
   ]
  },
  {
   "cell_type": "code",
   "execution_count": null,
   "metadata": {},
   "outputs": [],
   "source": [
    "print(\"maze_test.solvable: \", maze_test.solvable)\n",
    "\n",
    "# Zkusíme načíst nové bludiště a rozhodnout o jeho řešitelnosti bez hledání nejkratší cesty a kreslení obrázku\n",
    "maze_new = Maze(\"maze_3.csv\")\n",
    "maze_new.incidence = maze_new.create_incidence()\n",
    "maze_new.has_path()\n",
    "print(\"maze_new.solvable: \", maze_new.solvable)"
   ]
  },
  {
   "cell_type": "code",
   "execution_count": null,
   "metadata": {},
   "outputs": [],
   "source": [
    "# ještě může zkusit neprůchozí bludiště z předešlých ukázek\n",
    "print(\"maze_wrong.solvable: \", maze_wrong.solvable)"
   ]
  },
  {
   "attachments": {},
   "cell_type": "markdown",
   "metadata": {},
   "source": [
    "Nakonec si ukážeme metodu `generate_maze()`, která nám vygeneruje nové bludiště na zákaldě našich parametrů"
   ]
  },
  {
   "cell_type": "code",
   "execution_count": null,
   "metadata": {},
   "outputs": [],
   "source": [
    "generated_maze = Maze(size=20)\n",
    "generated_maze.generate_maze(size=20, iter=150)"
   ]
  },
  {
   "attachments": {},
   "cell_type": "markdown",
   "metadata": {},
   "source": [
    "Prvně si úkážeme jak bludiště vypadá"
   ]
  },
  {
   "cell_type": "code",
   "execution_count": null,
   "metadata": {},
   "outputs": [],
   "source": [
    "generated_maze.draw_maze()"
   ]
  },
  {
   "attachments": {},
   "cell_type": "markdown",
   "metadata": {},
   "source": [
    "Nyní si ještě bludiště uložíme do csv souboru pomocí metody `save_maze()`"
   ]
  },
  {
   "cell_type": "code",
   "execution_count": null,
   "metadata": {},
   "outputs": [],
   "source": [
    "generated_maze.save_maze()"
   ]
  },
  {
   "attachments": {},
   "cell_type": "markdown",
   "metadata": {},
   "source": [
    "A ještě bludiště vyřešíme"
   ]
  },
  {
   "cell_type": "code",
   "execution_count": null,
   "metadata": {},
   "outputs": [],
   "source": [
    "generated_maze.solve_maze(draw=True)"
   ]
  },
  {
   "attachments": {},
   "cell_type": "markdown",
   "metadata": {},
   "source": [
    "Nakonec si uakážeme ještě jiné parametry metody generování bludiště. Můžeme bludiště generovat rovnou při vytváření instance, když zadáme parametr iter"
   ]
  },
  {
   "cell_type": "code",
   "execution_count": null,
   "metadata": {},
   "outputs": [],
   "source": [
    "generated_maze2 = Maze(size=100, type=\"spiral\", iter=4000)\n",
    "generated_maze2.solve_maze(draw=True)"
   ]
  },
  {
   "cell_type": "code",
   "execution_count": null,
   "metadata": {},
   "outputs": [],
   "source": [
    "generated_maze3 = Maze(size=50, type=\"Z\", iter=1111)\n",
    "generated_maze3.solve_maze(draw=True, save_png=True, name=\"maze3\")"
   ]
  }
 ],
 "metadata": {
  "kernelspec": {
   "display_name": "Python 3",
   "language": "python",
   "name": "python3"
  },
  "language_info": {
   "codemirror_mode": {
    "name": "ipython",
    "version": 3
   },
   "file_extension": ".py",
   "mimetype": "text/x-python",
   "name": "python",
   "nbconvert_exporter": "python",
   "pygments_lexer": "ipython3",
   "version": "3.10.6"
  },
  "orig_nbformat": 4
 },
 "nbformat": 4,
 "nbformat_minor": 2
}
